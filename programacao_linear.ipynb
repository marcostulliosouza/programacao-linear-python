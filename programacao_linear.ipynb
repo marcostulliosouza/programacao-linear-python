{
  "cells": [
    {
      "cell_type": "markdown",
      "metadata": {
        "id": "view-in-github",
        "colab_type": "text"
      },
      "source": [
        "<a href=\"https://colab.research.google.com/github/marcostulliosouza/programacao-linear-python/blob/main/programacao_linear.ipynb\" target=\"_parent\"><img src=\"https://colab.research.google.com/assets/colab-badge.svg\" alt=\"Open In Colab\"/></a>"
      ]
    },
    {
      "cell_type": "markdown",
      "source": [
        "#Programação Linear"
      ],
      "metadata": {
        "id": "jt1-D99dCqW_"
      }
    },
    {
      "cell_type": "markdown",
      "source": [
        "**Desafio 1:** Fábrica de Móveis Artesanais\n",
        "\n",
        "Um marcenaria produz 4 tipos de móveisl: mesas, cadeiras, estantes e cômodas. Cada produto tem diferentes requisitos:\n",
        "\n",
        "**Recursos disponíveis por semana:**\n",
        "\n",
        "* Madeira: 500 m²\n",
        "* Tempo de carpintaria: 200 horas\n",
        "* Tempo de acabamento: 150 horas\n",
        "* Orçamento para materiais: R$ 15.000\n",
        "\n",
        "**Dados por produto:**\n",
        "\n",
        "* Mesa: 2m² madeira, 3h carpintaria, 2h acabamento, R\\$80 material, lucro R\\$150\n",
        "* Cadeira: 1m² madeira, 1.5h carpintaria, 1h acabamento, R\\$30 material, lucro R\\$60\n",
        "* Estante: 4m² madeira, 8h carpintaria, 5h acabamento, R\\$120 material, lucro R\\$280\n",
        "* Cômoda: 3m² madeira, 6h carpintaria, 4h acabamento, R\\$100 material, lucro R\\$200\n",
        "\n",
        "**Restrições adicionais:**\n",
        "\n",
        "* Produzir pelo menos 10 cadeiras (contrato fixo)\n",
        "* No máximo 15 estantes (limitação de espaço)\n",
        "* Mesas + cômodas ≤ 25 (limitação de verniz especial)\n",
        "\n",
        "Desafie-se: Maximize o lucro semanal."
      ],
      "metadata": {
        "id": "C2U4XPF2DSUg"
      }
    },
    {
      "cell_type": "markdown",
      "source": [
        "**Variáveis**\n",
        "\n",
        "* x_m = num de mesas\n",
        "* x_c = num de cadeiras\n",
        "* x_e = num de estantes\n",
        "* x_d = num de cômodas\n",
        "\n",
        "(maximizar lucro semanal)\n",
        "\n",
        "max Z = 150x_m + 60x_c + 280x_e + 200x_d\n",
        "\n",
        "**restrição:**\n",
        "\n",
        "recursos\n",
        "\n",
        " * madeira: 2x_m + 1x_c + 4x_e + 3x_d <= 500\n",
        " * carpintaria: 3x_m + 1,5x_c + 8x_e + 6x_d <= 200\n",
        " * acabamento: 2x_m + 1x_c + 5x_e + 4x_d <= 280\n",
        " * material: 80x_m + 30x_c + 120x_e + 100x_d <= 15000\n",
        "\n",
        "\n",
        " **Regra de negocio**\n",
        "\n",
        " * x_c >= 10\n",
        " * x_e <= 15\n",
        " * x_m + x_d <= 25\n"
      ],
      "metadata": {
        "id": "-wKu_QmRFFJn"
      }
    }
  ],
  "metadata": {
    "colab": {
      "name": "Welcome to Colab",
      "toc_visible": true,
      "provenance": [],
      "include_colab_link": true
    },
    "kernelspec": {
      "display_name": "Python 3",
      "name": "python3"
    }
  },
  "nbformat": 4,
  "nbformat_minor": 0
}