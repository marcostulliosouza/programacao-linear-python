{
  "cells": [
    {
      "cell_type": "markdown",
      "metadata": {
        "id": "view-in-github",
        "colab_type": "text"
      },
      "source": [
        "<a href=\"https://colab.research.google.com/github/marcostulliosouza/programacao-linear-python/blob/main/programacao_linear.ipynb\" target=\"_parent\"><img src=\"https://colab.research.google.com/assets/colab-badge.svg\" alt=\"Open In Colab\"/></a>"
      ]
    },
    {
      "cell_type": "markdown",
      "source": [
        "#Programação Linear"
      ],
      "metadata": {
        "id": "jt1-D99dCqW_"
      }
    },
    {
      "cell_type": "markdown",
      "source": [
        "**Desafio 1:** Fábrica de Móveis Artesanais\n",
        "\n",
        "Um marcenaria produz 4 tipos de móveisl: mesas, cadeiras, estantes e cômodas. Cada produto tem diferentes requisitos:\n",
        "\n",
        "**Recursos disponíveis por semana:**\n",
        "\n",
        "* Madeira: 500 m²\n",
        "* Tempo de carpintaria: 200 horas\n",
        "* Tempo de acabamento: 150 horas\n",
        "* Orçamento para materiais: R$ 15.000\n",
        "\n",
        "**Dados por produto:**\n",
        "\n",
        "* Mesa: 2m² madeira, 3h carpintaria, 2h acabamento, R\\$80 material, lucro R\\$150\n",
        "* Cadeira: 1m² madeira, 1.5h carpintaria, 1h acabamento, R\\$30 material, lucro R\\$60\n",
        "* Estante: 4m² madeira, 8h carpintaria, 5h acabamento, R\\$120 material, lucro R\\$280\n",
        "* Cômoda: 3m² madeira, 6h carpintaria, 4h acabamento, R\\$100 material, lucro R\\$200\n",
        "\n",
        "**Restrições adicionais:**\n",
        "\n",
        "* Produzir pelo menos 10 cadeiras (contrato fixo)\n",
        "* No máximo 15 estantes (limitação de espaço)\n",
        "* Mesas + cômodas ≤ 25 (limitação de verniz especial)\n",
        "\n",
        "Desafie-se: Maximize o lucro semanal."
      ],
      "metadata": {
        "id": "C2U4XPF2DSUg"
      }
    },
    {
      "cell_type": "markdown",
      "source": [
        "**Variáveis**\n",
        "\n",
        "* x_m = num de mesas\n",
        "* x_c = num de cadeiras\n",
        "* x_e = num de estantes\n",
        "* x_d = num de cômodas\n",
        "\n",
        "(maximizar lucro semanal)\n",
        "\n",
        "max Z = 150x_m + 60x_c + 280x_e + 200x_d\n",
        "\n",
        "**restrição:**\n",
        "\n",
        "recursos\n",
        "\n",
        " * madeira: 2x_m + 1x_c + 4x_e + 3x_d <= 500\n",
        " * carpintaria: 3x_m + 1,5x_c + 8x_e + 6x_d <= 200\n",
        " * acabamento: 2x_m + 1x_c + 5x_e + 4x_d <= 150\n",
        " * material: 80x_m + 30x_c + 120x_e + 100x_d <= 15000\n",
        "\n",
        "\n",
        " **Regra de negocio**\n",
        "\n",
        " * x_c >= 10\n",
        " * x_e <= 15\n",
        " * x_m + x_d <= 25\n"
      ],
      "metadata": {
        "id": "-wKu_QmRFFJn"
      }
    },
    {
      "cell_type": "code",
      "source": [
        "pip install pulp"
      ],
      "metadata": {
        "colab": {
          "base_uri": "https://localhost:8080/"
        },
        "id": "kRKkXs4lPyge",
        "outputId": "46ae122d-90de-449a-f245-a20531d8ad68"
      },
      "execution_count": 41,
      "outputs": [
        {
          "output_type": "stream",
          "name": "stdout",
          "text": [
            "Requirement already satisfied: pulp in /usr/local/lib/python3.11/dist-packages (3.2.2)\n"
          ]
        }
      ]
    },
    {
      "cell_type": "code",
      "source": [
        "import pulp\n",
        "\n",
        "# definir o modelo\n",
        "\n",
        "model = pulp.LpProblem(\"Fabrica_Moveis\", pulp.LpMaximize)"
      ],
      "metadata": {
        "id": "hDGRrvUoP9yV"
      },
      "execution_count": 42,
      "outputs": []
    },
    {
      "cell_type": "code",
      "source": [
        "# definicao das variaveis\n",
        "x_m = pulp.LpVariable('x_m', lowBound=0)\n",
        "x_c = pulp.LpVariable('x_c', lowBound=0)\n",
        "x_e = pulp.LpVariable('x_e', lowBound=0)\n",
        "x_d = pulp.LpVariable('x_d', lowBound=0)"
      ],
      "metadata": {
        "id": "fmbSGYJCQZKD"
      },
      "execution_count": 43,
      "outputs": []
    },
    {
      "cell_type": "code",
      "source": [
        "# funcao objetivo\n",
        "model += 150*x_m + 60*x_c + 280*x_e + 200*x_d, 'Lucro_Total'"
      ],
      "metadata": {
        "id": "righxT-kQz2z"
      },
      "execution_count": 44,
      "outputs": []
    },
    {
      "cell_type": "code",
      "source": [
        "# restricoes\n",
        "model += 2*x_m + 1*x_c + 4*x_e + 3*x_d <= 500, \"Madeira_limite\"\n",
        "model += 3*x_m + 1.5*x_c + 8*x_e + 6*x_d <= 200, \"Carpintaria_limite\"\n",
        "model += 2*x_m + 1*x_c + 5*x_e + 4*x_d <= 150, \"Acabamento_limite\"\n",
        "model += 80*x_m + 30*x_c + 120*x_e + 100*x_d <= 15000, \"Material_limite\""
      ],
      "metadata": {
        "id": "d-iGPwPVREuP"
      },
      "execution_count": 45,
      "outputs": []
    },
    {
      "cell_type": "code",
      "source": [
        "# regra de negocio\n",
        "model += x_c >= 10, \"Min_Cadeiras\"\n",
        "model += x_e <=15, \"Max_Estantes\"\n",
        "model += x_m + x_d <=25, \"Limite_Verniz\""
      ],
      "metadata": {
        "id": "O6DcblAKSXhy"
      },
      "execution_count": 46,
      "outputs": []
    },
    {
      "cell_type": "code",
      "source": [
        "print(\"Status: \", pulp.LpStatus[model.status])\n",
        "print(\"Mesas: \", x_m.varValue)\n",
        "print(\"Cadeiras: \", x_c.varValue)\n",
        "print(\"Estantes: \", x_e.varValue)\n",
        "print(\"Cômoda: \", x_d.varValue)\n",
        "print(\"Lucro Máximo: \", pulp.value(model.objective))"
      ],
      "metadata": {
        "colab": {
          "base_uri": "https://localhost:8080/"
        },
        "id": "Wm9YxthQSmo6",
        "outputId": "cf20e39b-1a16-4f8f-b142-7c3736102575"
      },
      "execution_count": 47,
      "outputs": [
        {
          "output_type": "stream",
          "name": "stdout",
          "text": [
            "Status:  Not Solved\n",
            "Mesas:  None\n",
            "Cadeiras:  None\n",
            "Estantes:  None\n",
            "Cômoda:  None\n",
            "Lucro Máximo:  None\n"
          ]
        }
      ]
    }
  ],
  "metadata": {
    "colab": {
      "provenance": [],
      "include_colab_link": true
    },
    "kernelspec": {
      "display_name": "Python 3",
      "name": "python3"
    }
  },
  "nbformat": 4,
  "nbformat_minor": 0
}